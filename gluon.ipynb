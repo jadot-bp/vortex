{
 "cells": [
  {
   "cell_type": "code",
   "execution_count": null,
   "id": "e0658b97",
   "metadata": {},
   "outputs": [],
   "source": [
    "import lyncs_io as io\n",
    "import numpy as np\n",
    "import time\n",
    "\n",
    "import matplotlib.pyplot as plt\n",
    "\n",
    "import gluon_utils as gu\n",
    "import gluon"
   ]
  },
  {
   "cell_type": "code",
   "execution_count": null,
   "id": "64a407bb",
   "metadata": {},
   "outputs": [],
   "source": [
    "def moving_average(x, w):\n",
    "    return np.convolve(x, np.ones(w), 'valid') / w"
   ]
  },
  {
   "cell_type": "code",
   "execution_count": null,
   "id": "c199d147",
   "metadata": {},
   "outputs": [],
   "source": [
    "Nt = 32\n",
    "t = 0\n",
    "\n",
    "Z_3 = True\n",
    "cylinder = True\n",
    "cone = True\n",
    "\n",
    "q_coord, D_results = gluon.spatial(Nt,2,t,check_divA=False)"
   ]
  },
  {
   "cell_type": "code",
   "execution_count": null,
   "id": "5866ddf1",
   "metadata": {},
   "outputs": [],
   "source": [
    "q_coord = np.asarray(q_coord) \n",
    "D_results = np.asarray(D_results)"
   ]
  },
  {
   "cell_type": "code",
   "execution_count": null,
   "id": "8928f571",
   "metadata": {},
   "outputs": [],
   "source": [
    "q_D = D_results[0,:].real\n",
    "D = D_results[1:,:]"
   ]
  },
  {
   "cell_type": "markdown",
   "id": "b5c56e8b",
   "metadata": {},
   "source": [
    "## Perform cylinder cut"
   ]
  },
  {
   "cell_type": "code",
   "execution_count": null,
   "id": "0dc18822",
   "metadata": {},
   "outputs": [],
   "source": [
    "radius = 3\n",
    "\n",
    "cylinder_mask = []\n",
    "\n",
    "body_norm = np.ones(3)/np.linalg.norm(np.ones(3))\n",
    "\n",
    "for coord in q_coord:\n",
    "    if np.all(coord[1:] == coord[1]): # Handle on-diagonal coordinates\n",
    "        r = 0\n",
    "    else:\n",
    "        q_norm = np.linalg.norm(coord[1:])\n",
    "        theta = np.arccos(np.dot(body_norm,coord[1:])/q_norm)\n",
    "    \n",
    "        r = q_norm * np.sin(theta)\n",
    "        \n",
    "    cylinder_mask.append(True if r <= radius else False)\n",
    "\n",
    "cylinder_mask = np.asarray(cylinder_mask, dtype=bool)"
   ]
  },
  {
   "cell_type": "markdown",
   "id": "061964c7",
   "metadata": {},
   "source": [
    "## Correct for improved action"
   ]
  },
  {
   "cell_type": "code",
   "execution_count": null,
   "id": "07011fd3",
   "metadata": {},
   "outputs": [],
   "source": [
    "q_hat = np.asarray([gluon.get_qhat(i,(Nt,32,32,32)) for i in q_coord[cylinder_mask]])\n",
    "q = np.asarray([np.linalg.norm(gluon.q_improved(i[1:])) for i in q_hat])"
   ]
  },
  {
   "cell_type": "code",
   "execution_count": null,
   "id": "ec3ba9b2",
   "metadata": {},
   "outputs": [],
   "source": [
    "fig, ax = plt.subplots(1,2,figsize=(12,6))\n",
    "\n",
    "ax[0].errorbar(q,np.mean(D,axis=0)[cylinder_mask],np.std(D,axis=0)[cylinder_mask],fmt='.')\n",
    "ax[1].errorbar(q_D,np.mean(D,axis=0),np.std(D,axis=0),fmt='.')\n",
    "\n",
    "for ax_ in ax:\n",
    "    ax_.set_xlabel(r'$qa$')\n",
    "    ax_.set_ylabel(r'$|D(q^2)|$')\n",
    "#plt.xlim(0,3)"
   ]
  },
  {
   "cell_type": "code",
   "execution_count": null,
   "id": "703d9446",
   "metadata": {},
   "outputs": [],
   "source": [
    "fig, ax = plt.subplots(1,2,figsize=(12,6))\n",
    "\n",
    "ax[0].errorbar(q,q**2*np.mean(D,axis=0)[cylinder_mask],q**2*np.std(D,axis=0)[cylinder_mask],fmt='.')\n",
    "ax[1].errorbar((q_D),(q_D)**2*np.mean(D,axis=0),q_D**2*np.std(D,axis=0),fmt='.')\n",
    "\n",
    "for ax_ in ax:\n",
    "    ax_.set_xlabel(r'$qa$')\n",
    "    ax_.set_ylabel(r'$|D(q^2)|$')\n",
    "#plt.xlim(0,3)"
   ]
  },
  {
   "cell_type": "markdown",
   "id": "1cde1f8a",
   "metadata": {},
   "source": []
  },
  {
   "cell_type": "code",
   "execution_count": null,
   "id": "4432b3c8",
   "metadata": {},
   "outputs": [],
   "source": []
  }
 ],
 "metadata": {
  "kernelspec": {
   "display_name": "gluprop",
   "language": "python",
   "name": "gluprop"
  },
  "language_info": {
   "codemirror_mode": {
    "name": "ipython",
    "version": 3
   },
   "file_extension": ".py",
   "mimetype": "text/x-python",
   "name": "python",
   "nbconvert_exporter": "python",
   "pygments_lexer": "ipython3",
   "version": "3.8.15"
  }
 },
 "nbformat": 4,
 "nbformat_minor": 5
}
