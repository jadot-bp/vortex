{
 "cells": [
  {
   "cell_type": "markdown",
   "id": "c55bb296",
   "metadata": {},
   "source": [
    "# prop_generator.ipynb\n",
    "\n",
    "This notebook is for generating the various types of propagator cache files needed for the analysis notebooks."
   ]
  },
  {
   "cell_type": "code",
   "execution_count": null,
   "id": "f8bc9771",
   "metadata": {},
   "outputs": [],
   "source": [
    "import gluon"
   ]
  },
  {
   "cell_type": "code",
   "execution_count": null,
   "id": "52df7a6b",
   "metadata": {},
   "outputs": [],
   "source": [
    "Nt = 24\n",
    "mode = \"VOS\"  # VRS, VOS or UT\n",
    "\n",
    "pattern = \"landau\"  # landau or coulomb\n",
    "xi = 1.0\n",
    "check_divA = True  # print value of div.A"
   ]
  },
  {
   "cell_type": "code",
   "execution_count": null,
   "id": "e0edc550",
   "metadata": {},
   "outputs": [],
   "source": [
    "# Use this cell to generate new propagator files.\n",
    "\n",
    "generate = True  # Generate (or regenerate) propagator files if True.\n",
    "\n",
    "if generate:\n",
    "    \n",
    "    # Individually loop over generator code to enable garbage collection and reduce memory requirements\n",
    "    for i in range(1,32):\n",
    "        \n",
    "        # Explicitly select path\n",
    "        path = f\"Gen2l_{Nt}x32n{i}-{mode}\" if mode in [\"VR\",\"VRS\",\"VO\",\"VOS\"] else f\"Gen2l_{Nt}x32n{i}\"\n",
    "        \n",
    "        try:\n",
    "            gluon.spatial(Nt, 1, mode, check_divA=check_divA, rand_selection=[path], save_prop=True, regenerate=generate, pattern='landau', xi=xi)\n",
    "        except Exception as e:\n",
    "            print(e)"
   ]
  }
 ],
 "metadata": {
  "kernelspec": {
   "display_name": "lyncs",
   "language": "python",
   "name": "lyncs"
  },
  "language_info": {
   "codemirror_mode": {
    "name": "ipython",
    "version": 3
   },
   "file_extension": ".py",
   "mimetype": "text/x-python",
   "name": "python",
   "nbconvert_exporter": "python",
   "pygments_lexer": "ipython3",
   "version": "3.10.8"
  }
 },
 "nbformat": 4,
 "nbformat_minor": 5
}
