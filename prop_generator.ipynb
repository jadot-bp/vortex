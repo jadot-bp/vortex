{
 "cells": [
  {
   "cell_type": "markdown",
   "id": "934ed099",
   "metadata": {},
   "source": [
    "# prop_generator.ipynb\n",
    "\n",
    "This notebook is for generating the various types of propagator cache files needed for the analysis notebooks."
   ]
  },
  {
   "cell_type": "code",
   "execution_count": null,
   "id": "7b020020",
   "metadata": {},
   "outputs": [],
   "source": [
    "import gluon"
   ]
  },
  {
   "cell_type": "code",
   "execution_count": null,
   "id": "bb9ffef6",
   "metadata": {},
   "outputs": [],
   "source": [
    "Nt = 12\n",
    "mode = \"VRS\"  # VRS, VOS or UT\n",
    "\n",
    "pattern = \"landau\"  # landau or coulomb\n",
    "xi = 3.453\n",
    "check_divA = True  # print value of div.A"
   ]
  },
  {
   "cell_type": "code",
   "execution_count": null,
   "id": "a7981da2",
   "metadata": {},
   "outputs": [],
   "source": [
    "conf_path = # Path to Gen-2L gauge field files\n",
    "gauge_path = # Path to gauge transform files\n",
    "prop_path = # Path to save propagator files"
   ]
  },
  {
   "cell_type": "code",
   "execution_count": null,
   "id": "8bb09b6d",
   "metadata": {},
   "outputs": [],
   "source": [
    "# Use this cell to generate new propagator files.\n",
    "\n",
    "generate = True  # Generate (or regenerate) propagator files if True.\n",
    "\n",
    "if generate:\n",
    "    \n",
    "    # Individually loop over generator code to enable garbage collection and reduce memory requirements\n",
    "    for i in range(1,32):\n",
    "        \n",
    "        # Explicitly select path\n",
    "        path = f\"Gen2l_{Nt}x32n{i}-{mode}\" if mode in [\"VR\",\"VRS\",\"VO\",\"VOS\"] else f\"Gen2l_{Nt}x32n{i}\"\n",
    "        \n",
    "        try:\n",
    "            gluon.spatial(Nt, 1, mode, check_divA=check_divA, rand_selection=[path], save_prop=True,\n",
    "                          regenerate=generate, pattern='landau', xi=xi, conf_path=conf_path, gauge_path=gauge_path, prop_path=prop_path)\n",
    "        except Exception as e:\n",
    "            print(e)"
   ]
  },
  {
   "cell_type": "code",
   "execution_count": null,
   "id": "903297f7",
   "metadata": {},
   "outputs": [],
   "source": []
  }
 ],
 "metadata": {
  "kernelspec": {
   "display_name": "lyncs",
   "language": "python",
   "name": "lyncs"
  },
  "language_info": {
   "codemirror_mode": {
    "name": "ipython",
    "version": 3
   },
   "file_extension": ".py",
   "mimetype": "text/x-python",
   "name": "python",
   "nbconvert_exporter": "python",
   "pygments_lexer": "ipython3",
   "version": "3.10.8"
  }
 },
 "nbformat": 4,
 "nbformat_minor": 5
}
