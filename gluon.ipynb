{
 "cells": [
  {
   "cell_type": "code",
   "execution_count": null,
   "id": "e0658b97",
   "metadata": {},
   "outputs": [],
   "source": [
    "import lyncs_io as io\n",
    "import numpy as np\n",
    "\n",
    "from scipy.fft import fftn\n",
    "\n",
    "from plaquette import gauge_fields"
   ]
  },
  {
   "cell_type": "code",
   "execution_count": null,
   "id": "97ecaa5d",
   "metadata": {},
   "outputs": [],
   "source": [
    "input_file = \"Gen2l_8x32n1\""
   ]
  },
  {
   "cell_type": "code",
   "execution_count": null,
   "id": "ac8f8c74",
   "metadata": {},
   "outputs": [],
   "source": [
    "data = io.load(input_file, format=\"openqcd\")"
   ]
  },
  {
   "cell_type": "code",
   "execution_count": null,
   "id": "a45b24e2",
   "metadata": {},
   "outputs": [],
   "source": [
    "gf = gauge_fields(data,(8,32,4,3))"
   ]
  },
  {
   "cell_type": "code",
   "execution_count": null,
   "id": "a44c3525",
   "metadata": {},
   "outputs": [],
   "source": [
    "links = gf.lattice"
   ]
  },
  {
   "cell_type": "code",
   "execution_count": null,
   "id": "7e808086",
   "metadata": {},
   "outputs": [],
   "source": [
    "links.shape"
   ]
  },
  {
   "cell_type": "code",
   "execution_count": null,
   "id": "38714dd4",
   "metadata": {},
   "outputs": [],
   "source": [
    "def A_q(coord,mu):\n",
    "    \n",
    "    B_q = gf.get_link(coord,mu) - np.conj(gf.get_link(coord,mu)).T\n",
    "    \n",
    "    return "
   ]
  }
 ],
 "metadata": {
  "kernelspec": {
   "display_name": "gluprop",
   "language": "python",
   "name": "gluprop"
  },
  "language_info": {
   "codemirror_mode": {
    "name": "ipython",
    "version": 3
   },
   "file_extension": ".py",
   "mimetype": "text/x-python",
   "name": "python",
   "nbconvert_exporter": "python",
   "pygments_lexer": "ipython3",
   "version": "3.8.15"
  }
 },
 "nbformat": 4,
 "nbformat_minor": 5
}
