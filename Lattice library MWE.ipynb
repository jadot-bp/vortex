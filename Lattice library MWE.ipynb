{
 "cells": [
  {
   "cell_type": "markdown",
   "id": "4b2eabf6",
   "metadata": {},
   "source": [
    "# Lattice library MWE\n",
    "\n",
    "This notebook contains the minimum working examples for reading the OpenQCD Gen2L gauge field files and performing some basic operations."
   ]
  },
  {
   "cell_type": "code",
   "execution_count": 1,
   "id": "90cd6b3a",
   "metadata": {},
   "outputs": [],
   "source": [
    "import lyncs_io as io\n",
    "\n",
    "import gluon_utils\n",
    "import numpy as np"
   ]
  },
  {
   "cell_type": "code",
   "execution_count": 2,
   "id": "d3675565",
   "metadata": {},
   "outputs": [],
   "source": [
    "# Change these as appropriate\n",
    "path_to_gaugefield = \"/home/ben/Work/gauge_confs/confs/full/8x32/Gen2l_8x32n1\"\n",
    "path_to_transform = \"/home/ben/Work/gauge_confs/transforms/landau/full/8x32/Gen2l_8x32n1.gauge.lime\"\n",
    "\n",
    "Nt = 8\n",
    "pattern = \"landau\"  # Type of gauge transform.\n",
    "\n",
    "# Don't change these\n",
    "Ns = 32\n",
    "Nd = 4\n",
    "Nc = 3"
   ]
  },
  {
   "cell_type": "markdown",
   "id": "48f2d097",
   "metadata": {},
   "source": [
    "### Read gauge field and transform files"
   ]
  },
  {
   "cell_type": "code",
   "execution_count": 3,
   "id": "2e3a308f",
   "metadata": {},
   "outputs": [],
   "source": [
    "gaugefield = io.load(path_to_gaugefield, format=\"openqcd\")\n",
    "transform = io.load(path_to_transform, format=\"lime\")"
   ]
  },
  {
   "cell_type": "code",
   "execution_count": 4,
   "id": "362e1b88",
   "metadata": {},
   "outputs": [
    {
     "name": "stdout",
     "output_type": "stream",
     "text": [
      "Gauge field shape: (8, 32, 32, 32, 4, 3, 3)\n",
      "Transform shape: (8, 32, 32, 32, 3, 3)\n"
     ]
    }
   ],
   "source": [
    "print(\"Gauge field shape:\", gaugefield.shape)\n",
    "print(\"Transform shape:\", transform.shape)"
   ]
  },
  {
   "cell_type": "markdown",
   "id": "989902d2",
   "metadata": {},
   "source": [
    "## Create lattice object from gaugefield"
   ]
  },
  {
   "cell_type": "code",
   "execution_count": 5,
   "id": "899fd25d",
   "metadata": {},
   "outputs": [
    {
     "name": "stdout",
     "output_type": "stream",
     "text": [
      "Lattice shape: (8, 32, 32, 32, 4, 3, 3)\n"
     ]
    }
   ],
   "source": [
    "lattice = gluon_utils.lattice(gaugefield,params=(Nt,Ns,Nd,Nc))\n",
    "\n",
    "print(\"Lattice shape:\",lattice.lattice.shape)"
   ]
  },
  {
   "cell_type": "markdown",
   "id": "2dcb5489",
   "metadata": {},
   "source": [
    "## Evaluate plaquette\n",
    "\n",
    "This still uses Python code to evaluate the average plaquette and is VERY SLOW. Uncomment if you want to test it for yourself..."
   ]
  },
  {
   "cell_type": "code",
   "execution_count": 6,
   "id": "433a2cab",
   "metadata": {},
   "outputs": [
    {
     "name": "stdout",
     "output_type": "stream",
     "text": [
      "CPU times: user 1 µs, sys: 0 ns, total: 1 µs\n",
      "Wall time: 3.58 µs\n"
     ]
    }
   ],
   "source": [
    "%%time\n",
    "\n",
    "#P_s, P_t = lattice.evaluate_average_plaquette()\n",
    "#np.mean([P_s,P_t])"
   ]
  },
  {
   "cell_type": "code",
   "execution_count": 7,
   "id": "d3941630",
   "metadata": {},
   "outputs": [
    {
     "name": "stdout",
     "output_type": "stream",
     "text": [
      "Stored value: 1.6237173258079076\n"
     ]
    }
   ],
   "source": [
    "print(\"Stored value:\",io.head(path_to_gaugefield, format=\"openqcd\")[\"plaq\"])"
   ]
  },
  {
   "cell_type": "markdown",
   "id": "25b9ede5",
   "metadata": {},
   "source": [
    "## Evaluate gauge condition before and after gauge fixing.\n",
    "\n",
    "This is extremely fast compared to the standard Pythonic approach due to the side-step into C. Here we want the divergence to be below 1 part in $10^{16}$."
   ]
  },
  {
   "cell_type": "code",
   "execution_count": 8,
   "id": "514c931a",
   "metadata": {},
   "outputs": [
    {
     "name": "stdout",
     "output_type": "stream",
     "text": [
      "Before fixing: 827.5540333141095\n",
      "After fixing: 9.854228997379667e-17\n",
      "CPU times: user 2.68 s, sys: 2.3 ms, total: 2.68 s\n",
      "Wall time: 2.68 s\n"
     ]
    }
   ],
   "source": [
    "%%time\n",
    "\n",
    "print(\"Before fixing:\", lattice.evaluate_divA(pattern=pattern))\n",
    "\n",
    "lattice.apply_gauge(transform)\n",
    "\n",
    "print(\"After fixing:\", lattice.evaluate_divA(pattern=pattern))"
   ]
  },
  {
   "cell_type": "markdown",
   "id": "2dbfc56b",
   "metadata": {},
   "source": [
    "The `lattice` object now contains the prepared (gauge-fixed) configuration ready for propagator calculation."
   ]
  }
 ],
 "metadata": {
  "kernelspec": {
   "display_name": "lyncs",
   "language": "python",
   "name": "lyncs"
  },
  "language_info": {
   "codemirror_mode": {
    "name": "ipython",
    "version": 3
   },
   "file_extension": ".py",
   "mimetype": "text/x-python",
   "name": "python",
   "nbconvert_exporter": "python",
   "pygments_lexer": "ipython3",
   "version": "3.10.8"
  }
 },
 "nbformat": 4,
 "nbformat_minor": 5
}
