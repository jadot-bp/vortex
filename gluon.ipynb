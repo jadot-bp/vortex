{
 "cells": [
  {
   "cell_type": "code",
   "execution_count": null,
   "id": "e0658b97",
   "metadata": {},
   "outputs": [],
   "source": [
    "import lyncs_io as io\n",
    "import numpy as np\n",
    "import time\n",
    "\n",
    "import matplotlib.pyplot as plt\n",
    "\n",
    "import gluon_utils as gu\n",
    "import gluon"
   ]
  },
  {
   "cell_type": "code",
   "execution_count": null,
   "id": "c199d147",
   "metadata": {},
   "outputs": [],
   "source": [
    "D_results = gluon.main(8,3)"
   ]
  },
  {
   "cell_type": "code",
   "execution_count": null,
   "id": "8928f571",
   "metadata": {},
   "outputs": [],
   "source": [
    "D_results = np.asarray(D_results)"
   ]
  },
  {
   "cell_type": "code",
   "execution_count": null,
   "id": "fb77f6fc",
   "metadata": {},
   "outputs": [],
   "source": [
    "q = D_results[0,:]\n",
    "D = D_results[1:,:]"
   ]
  },
  {
   "cell_type": "code",
   "execution_count": null,
   "id": "ec3ba9b2",
   "metadata": {},
   "outputs": [],
   "source": [
    "plt.scatter(q,q**2*D_results.mean(axis=0),s=0.5,c='k')\n",
    "plt.yscale('log')\n",
    "plt.xlabel(r'$qa$')\n",
    "plt.ylabel(r'$q^2a^2D(q^2)$')"
   ]
  },
  {
   "cell_type": "markdown",
   "id": "1cde1f8a",
   "metadata": {},
   "source": []
  }
 ],
 "metadata": {
  "kernelspec": {
   "display_name": "gluprop",
   "language": "python",
   "name": "gluprop"
  },
  "language_info": {
   "codemirror_mode": {
    "name": "ipython",
    "version": 3
   },
   "file_extension": ".py",
   "mimetype": "text/x-python",
   "name": "python",
   "nbconvert_exporter": "python",
   "pygments_lexer": "ipython3",
   "version": "3.8.15"
  }
 },
 "nbformat": 4,
 "nbformat_minor": 5
}
