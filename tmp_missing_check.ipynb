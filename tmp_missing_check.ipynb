{
 "cells": [
  {
   "cell_type": "code",
   "execution_count": 1,
   "id": "2b7987f7",
   "metadata": {},
   "outputs": [],
   "source": [
    "import os"
   ]
  },
  {
   "cell_type": "code",
   "execution_count": 2,
   "id": "53aefce7",
   "metadata": {},
   "outputs": [],
   "source": [
    "root_dir = \"/home/ben/Postgrad Work/gauge_confs/props\""
   ]
  },
  {
   "cell_type": "code",
   "execution_count": 12,
   "id": "fb8bf129",
   "metadata": {},
   "outputs": [],
   "source": [
    "results = {}\n",
    "\n",
    "for Nt in [8,16,32,64]:\n",
    "    \n",
    "    tmp_results = []\n",
    "    \n",
    "    for prop in os.listdir(f\"{root_dir}/Nt{Nt}\"):\n",
    "        if prop.endswith(\".prop\"):\n",
    "            n = prop.replace(f\"Gen2l_{Nt}x32n\",'').rstrip(\".prop\")\n",
    "            tmp_results.append(int(n))\n",
    "    results[Nt] = tmp_results\n",
    "            "
   ]
  },
  {
   "cell_type": "code",
   "execution_count": 18,
   "id": "aa9dd607",
   "metadata": {},
   "outputs": [
    {
     "name": "stdout",
     "output_type": "stream",
     "text": [
      "8 [1, 2, 3, 5, 6, 7, 8, 9, 10, 11, 12, 13, 14, 15, 16, 17, 18, 19, 21, 22, 24, 25, 26, 28, 29, 30, 31, 32, 33, 36, 37, 38, 39, 40, 41, 42, 43, 44, 45, 46, 47, 48, 49, 50]\n",
      "16 [11, 13, 14, 17, 18, 19, 20, 22, 23, 24, 25, 26, 27, 28, 29, 30, 31, 32, 33, 34, 35, 36, 37, 38, 40, 41, 42, 43, 45, 46, 48, 50]\n",
      "32 [7, 8, 9, 10, 11, 12, 14, 15, 16, 17, 20, 23, 24, 26, 27, 31, 32, 33, 35, 40, 42, 44, 46, 47, 48, 50]\n",
      "64 [1, 2, 3, 4, 5, 6, 7, 8, 9, 10, 11, 12, 14, 15, 18, 19, 21, 22, 23, 24, 26, 27, 28, 29, 30, 32, 33, 34, 35, 36, 37, 38, 39, 40, 42, 44, 48, 49, 50]\n"
     ]
    }
   ],
   "source": [
    "## Check 1-50 present in each temp\n",
    "\n",
    "for Nt in [8,16,32,64]:\n",
    "    missing = []\n",
    "    \n",
    "    prop_n = results[Nt]\n",
    "    \n",
    "    for n in range(1,51):\n",
    "        if n in prop_n:\n",
    "            continue\n",
    "        else:\n",
    "            missing.append(n)\n",
    "            \n",
    "    print(Nt, missing)\n",
    "        "
   ]
  },
  {
   "cell_type": "code",
   "execution_count": null,
   "id": "48ce44f0",
   "metadata": {},
   "outputs": [],
   "source": []
  }
 ],
 "metadata": {
  "kernelspec": {
   "display_name": "Python 3 (ipykernel)",
   "language": "python",
   "name": "python3"
  },
  "language_info": {
   "codemirror_mode": {
    "name": "ipython",
    "version": 3
   },
   "file_extension": ".py",
   "mimetype": "text/x-python",
   "name": "python",
   "nbconvert_exporter": "python",
   "pygments_lexer": "ipython3",
   "version": "3.8.13"
  }
 },
 "nbformat": 4,
 "nbformat_minor": 5
}
